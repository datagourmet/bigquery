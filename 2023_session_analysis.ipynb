{
 "cells": [
  {
   "cell_type": "code",
   "execution_count": 1,
   "metadata": {},
   "outputs": [],
   "source": [
    "import pandas as pd\n",
    "import matplotlib.pyplot as plt"
   ]
  },
  {
   "cell_type": "code",
   "execution_count": 2,
   "metadata": {},
   "outputs": [],
   "source": [
    "# Load the dataset\n",
    "file_path = \"/Users/nicolasmcontreras/Downloads/analysis_test_bard - Sheet1.csv\"\n",
    "df = pd.read_csv(file_path)\n"
   ]
  },
  {
   "cell_type": "code",
   "execution_count": 4,
   "metadata": {},
   "outputs": [
    {
     "name": "stdout",
     "output_type": "stream",
     "text": [
      "Summary of the Dataset:\n",
      "          Sessions        Users  Engaged sessions  \\\n",
      "count    44.000000    44.000000         44.000000   \n",
      "mean    204.954545   159.977273        139.613636   \n",
      "std     690.163680   548.827354        461.497472   \n",
      "min       1.000000     1.000000          0.000000   \n",
      "25%       2.000000     1.000000          1.750000   \n",
      "50%       9.000000     4.000000          5.000000   \n",
      "75%      38.250000    29.500000         28.250000   \n",
      "max    3550.000000  2936.000000       2429.000000   \n",
      "\n",
      "       Average engagement time per session  Engaged sessions per user  \\\n",
      "count                            44.000000                    44.0000   \n",
      "mean                             36.306818                     2.3000   \n",
      "std                              29.415606                     6.6336   \n",
      "min                               0.000000                     0.0000   \n",
      "25%                              12.000000                     0.8000   \n",
      "50%                              37.750000                     1.0000   \n",
      "75%                              53.925000                     1.2000   \n",
      "max                             110.000000                    44.0000   \n",
      "\n",
      "       Events per session   Event count  Conversions  \n",
      "count           44.000000     44.000000    44.000000  \n",
      "mean             9.681818   1681.409091     1.136364  \n",
      "std              7.113311   5472.188348     3.554172  \n",
      "min              3.000000      3.000000     0.000000  \n",
      "25%              5.075000     24.750000     0.000000  \n",
      "50%              8.000000     70.500000     0.000000  \n",
      "75%             10.750000    334.750000     0.000000  \n",
      "max             35.000000  27952.000000    19.000000  \n"
     ]
    }
   ],
   "source": [
    "# Display summary statistics of the dataset\n",
    "print(\"Summary of the Dataset:\")\n",
    "print(df.describe())"
   ]
  },
  {
   "cell_type": "code",
   "execution_count": 5,
   "metadata": {},
   "outputs": [
    {
     "name": "stdout",
     "output_type": "stream",
     "text": [
      "Top Performing Channels:\n",
      "        Session source/medium  Sessions  Users  Conversions\n",
      "0                  meta / ads      3550   2936           19\n",
      "1           (direct) / (none)      2779   2003           10\n",
      "2  l.instagram.com / referral      1198   1107            3\n",
      "3            google / organic       728    441           11\n",
      "4     facebook.com / referral       112    112            0\n",
      "5       shopify_email / email        73     39            2\n",
      "6    instagram.com / referral        63     60            0\n",
      "7      liforme.com / referral        62      1            0\n",
      "8             judgeme / email        60     25            0\n"
     ]
    }
   ],
   "source": [
    "# 1. Top Performing Channels\n",
    "top_channels = df.nlargest(9, 'Sessions')[['Session source/medium', 'Sessions', 'Users', 'Conversions']]\n",
    "print(\"Top Performing Channels:\")\n",
    "print(top_channels)\n",
    "\n"
   ]
  }
 ],
 "metadata": {
  "kernelspec": {
   "display_name": "Python 3",
   "language": "python",
   "name": "python3"
  },
  "language_info": {
   "codemirror_mode": {
    "name": "ipython",
    "version": 3
   },
   "file_extension": ".py",
   "mimetype": "text/x-python",
   "name": "python",
   "nbconvert_exporter": "python",
   "pygments_lexer": "ipython3",
   "version": "3.10.0"
  }
 },
 "nbformat": 4,
 "nbformat_minor": 2
}
